{
  "nbformat": 4,
  "nbformat_minor": 0,
  "metadata": {
    "colab": {
      "name": "regency_cluster.ipynb",
      "provenance": [],
      "authorship_tag": "ABX9TyMJxni9gjqxcDcPKaFn0C2a",
      "include_colab_link": true
    },
    "kernelspec": {
      "name": "python3",
      "display_name": "Python 3"
    },
    "language_info": {
      "name": "python"
    }
  },
  "cells": [
    {
      "cell_type": "markdown",
      "metadata": {
        "id": "view-in-github",
        "colab_type": "text"
      },
      "source": [
        "<a href=\"https://colab.research.google.com/github/evanekawijaya/data-project/blob/main/DAS%202020/regency_cluster.ipynb\" target=\"_parent\"><img src=\"https://colab.research.google.com/assets/colab-badge.svg\" alt=\"Open In Colab\"/></a>"
      ]
    },
    {
      "cell_type": "code",
      "metadata": {
        "id": "YHLL2m2fnw0X",
        "colab": {
          "base_uri": "https://localhost:8080/"
        },
        "outputId": "fa8a9378-8105-47a4-ef89-b3308b93f4f4"
      },
      "source": [
        "import pandas as pd\n",
        "from google.colab import drive\n",
        "\n",
        "drive.mount('/content/drive')\n",
        "train=pd.read_csv(\"/content/drive/MyDrive/DAS/Train.csv\").iloc[:,2:]\n",
        "test=pd.read_csv(\"/content/drive/MyDrive/DAS/Test.csv\").iloc[:,3:]"
      ],
      "execution_count": 13,
      "outputs": [
        {
          "output_type": "stream",
          "text": [
            "Drive already mounted at /content/drive; to attempt to forcibly remount, call drive.mount(\"/content/drive\", force_remount=True).\n"
          ],
          "name": "stdout"
        }
      ]
    },
    {
      "cell_type": "code",
      "metadata": {
        "id": "5FBeARwhJaJh",
        "colab": {
          "base_uri": "https://localhost:8080/",
          "height": 183
        },
        "outputId": "5a915e95-5703-4c2f-c860-5136101aebe3"
      },
      "source": [
        "from sklearn.feature_selection import SelectKBest, chi2\n",
        "X_new = SelectKBest(chi2, k=10).fit_transform(X,y)"
      ],
      "execution_count": 2,
      "outputs": [
        {
          "output_type": "error",
          "ename": "NameError",
          "evalue": "ignored",
          "traceback": [
            "\u001b[0;31m---------------------------------------------------------------------------\u001b[0m",
            "\u001b[0;31mNameError\u001b[0m                                 Traceback (most recent call last)",
            "\u001b[0;32m<ipython-input-2-d78a63c72478>\u001b[0m in \u001b[0;36m<module>\u001b[0;34m()\u001b[0m\n\u001b[1;32m      1\u001b[0m \u001b[0;32mfrom\u001b[0m \u001b[0msklearn\u001b[0m\u001b[0;34m.\u001b[0m\u001b[0mfeature_selection\u001b[0m \u001b[0;32mimport\u001b[0m \u001b[0mSelectKBest\u001b[0m\u001b[0;34m,\u001b[0m \u001b[0mchi2\u001b[0m\u001b[0;34m\u001b[0m\u001b[0;34m\u001b[0m\u001b[0m\n\u001b[0;32m----> 2\u001b[0;31m \u001b[0mX_new\u001b[0m \u001b[0;34m=\u001b[0m \u001b[0mSelectKBest\u001b[0m\u001b[0;34m(\u001b[0m\u001b[0mchi2\u001b[0m\u001b[0;34m,\u001b[0m \u001b[0mk\u001b[0m\u001b[0;34m=\u001b[0m\u001b[0;36m10\u001b[0m\u001b[0;34m)\u001b[0m\u001b[0;34m.\u001b[0m\u001b[0mfit_transform\u001b[0m\u001b[0;34m(\u001b[0m\u001b[0mX\u001b[0m\u001b[0;34m,\u001b[0m\u001b[0my\u001b[0m\u001b[0;34m)\u001b[0m\u001b[0;34m\u001b[0m\u001b[0;34m\u001b[0m\u001b[0m\n\u001b[0m",
            "\u001b[0;31mNameError\u001b[0m: name 'X' is not defined"
          ]
        }
      ]
    },
    {
      "cell_type": "code",
      "metadata": {
        "id": "aMn65uagTZzE"
      },
      "source": [
        "drop=['continent_id','buyer_country','buyer_region','distance','mobile','buying_date','dealing_date','channel_id','adults','children','room','dealing','regency_continent','cnt']\n",
        "train=train.drop(columns=drop)"
      ],
      "execution_count": 3,
      "outputs": []
    },
    {
      "cell_type": "code",
      "metadata": {
        "id": "NOWxdWCZWciw"
      },
      "source": [
        "drop1=['continent_id','buyer_country','buyer_region','distance','mobile','buying_date','dealing_date','channel_id','adults','children','room','regency_continent']\n",
        "test=test.drop(columns=drop1)"
      ],
      "execution_count": 14,
      "outputs": []
    },
    {
      "cell_type": "code",
      "metadata": {
        "id": "xheeQ73vVy5b"
      },
      "source": [
        "train=train.astype('category')\n",
        "test=test.astype('category')"
      ],
      "execution_count": 15,
      "outputs": []
    },
    {
      "cell_type": "code",
      "metadata": {
        "id": "hjJiYLNIwHcb"
      },
      "source": [
        "import numpy as np\n",
        "from sklearn.ensemble import RandomForestClassifier\n",
        "from sklearn.metrics import accuracy_score\n",
        "from sklearn.metrics import f1_score\n",
        "\n",
        "X = train.drop(columns=['regency_cluster'])\n",
        "y = train['regency_cluster']\n",
        "\n",
        "model = RandomForestClassifier(max_samples=0.4,max_features=5,n_estimators=50)"
      ],
      "execution_count": 7,
      "outputs": []
    },
    {
      "cell_type": "code",
      "metadata": {
        "colab": {
          "base_uri": "https://localhost:8080/"
        },
        "id": "8JHTNRq7thBP",
        "outputId": "2f1aacee-86a8-41fa-ffa3-f8fd912534d0"
      },
      "source": [
        "from sklearn.model_selection import cross_val_score\n",
        "from sklearn.model_selection import RepeatedStratifiedKFold\n",
        "\n",
        "cv = RepeatedStratifiedKFold(n_splits=10,n_repeats=3, random_state=2056)\n",
        "n_scores = cross_val_score(model, X, y, cv=cv,scoring='f1_micro', error_score='raise')\n",
        "print('f1 score: %.3f (%.3f)' % (np.mean(n_scores), np.std(n_scores)))"
      ],
      "execution_count": 8,
      "outputs": [
        {
          "output_type": "stream",
          "text": [
            "f1 score: 0.313 (0.003)\n"
          ],
          "name": "stdout"
        }
      ]
    },
    {
      "cell_type": "code",
      "metadata": {
        "id": "uKavy_8t1l-y"
      },
      "source": [
        "model.fit(X,y)\n",
        "pred= model.predict(test)"
      ],
      "execution_count": 16,
      "outputs": []
    },
    {
      "cell_type": "code",
      "metadata": {
        "id": "qH_U3dkYyZnB"
      },
      "source": [
        "answer = test\n",
        "answer['regency_cluster'] = pred"
      ],
      "execution_count": null,
      "outputs": []
    },
    {
      "cell_type": "code",
      "metadata": {
        "colab": {
          "base_uri": "https://localhost:8080/",
          "height": 17
        },
        "id": "-wZc8O-Z2YSM",
        "outputId": "0921ebda-bf75-4362-e7bb-ec580115f602"
      },
      "source": [
        "from google.colab import files\n",
        "answer.to_csv('ID-21-0250_Siev_Universitas Indonesia2.csv',index=False)\n",
        "files.download('ID-21-0250_Siev_Universitas Indonesia2.csv')"
      ],
      "execution_count": 18,
      "outputs": [
        {
          "output_type": "display_data",
          "data": {
            "application/javascript": [
              "\n",
              "    async function download(id, filename, size) {\n",
              "      if (!google.colab.kernel.accessAllowed) {\n",
              "        return;\n",
              "      }\n",
              "      const div = document.createElement('div');\n",
              "      const label = document.createElement('label');\n",
              "      label.textContent = `Downloading \"${filename}\": `;\n",
              "      div.appendChild(label);\n",
              "      const progress = document.createElement('progress');\n",
              "      progress.max = size;\n",
              "      div.appendChild(progress);\n",
              "      document.body.appendChild(div);\n",
              "\n",
              "      const buffers = [];\n",
              "      let downloaded = 0;\n",
              "\n",
              "      const channel = await google.colab.kernel.comms.open(id);\n",
              "      // Send a message to notify the kernel that we're ready.\n",
              "      channel.send({})\n",
              "\n",
              "      for await (const message of channel.messages) {\n",
              "        // Send a message to notify the kernel that we're ready.\n",
              "        channel.send({})\n",
              "        if (message.buffers) {\n",
              "          for (const buffer of message.buffers) {\n",
              "            buffers.push(buffer);\n",
              "            downloaded += buffer.byteLength;\n",
              "            progress.value = downloaded;\n",
              "          }\n",
              "        }\n",
              "      }\n",
              "      const blob = new Blob(buffers, {type: 'application/binary'});\n",
              "      const a = document.createElement('a');\n",
              "      a.href = window.URL.createObjectURL(blob);\n",
              "      a.download = filename;\n",
              "      div.appendChild(a);\n",
              "      a.click();\n",
              "      div.remove();\n",
              "    }\n",
              "  "
            ],
            "text/plain": [
              "<IPython.core.display.Javascript object>"
            ]
          },
          "metadata": {
            "tags": []
          }
        },
        {
          "output_type": "display_data",
          "data": {
            "application/javascript": [
              "download(\"download_9c41d6b6-b938-4c33-88b0-7f0f98de5c3e\", \"ID-21-0250_Siev_Universitas Indonesia2.csv\", 690764)"
            ],
            "text/plain": [
              "<IPython.core.display.Javascript object>"
            ]
          },
          "metadata": {
            "tags": []
          }
        }
      ]
    },
    {
      "cell_type": "code",
      "metadata": {
        "colab": {
          "base_uri": "https://localhost:8080/"
        },
        "id": "BRsWbpJQ4N2p",
        "outputId": "bbbc35d6-025c-4fd4-b1d5-685caf3c7845"
      },
      "source": [
        "from sklearn.model_selection import train_test_split\n",
        "\n",
        "X_train, X_test, y_train, y_test = train_test_split(X, y,test_size=0.2, stratify=y,random_state= 2056)\n",
        "for i in np.arange(0.1,1.1,0.1):\n",
        "  arr=[]\n",
        "  if i==1.0:\n",
        "    i=None\n",
        "  for j in range(0,5):\n",
        "    model = RandomForestClassifier(max_samples=i)\n",
        "    model.fit(X_train, y_train)\n",
        "    yhat = model.predict(X_test)\n",
        "    # evaluate predictions\n",
        "    arr.append(f1_score(y_test, yhat,average='micro'))\n",
        "  print(i,\"mean:{0:.3f}, std:{1:.3f}\".format(np.mean(arr), np.std(arr)))"
      ],
      "execution_count": 25,
      "outputs": [
        {
          "output_type": "stream",
          "text": [
            "0.1 mean:0.273, std:0.000\n",
            "0.2 mean:0.294, std:0.001\n",
            "0.30000000000000004 mean:0.300, std:0.001\n",
            "0.4 mean:0.302, std:0.000\n",
            "0.5 mean:0.302, std:0.000\n",
            "0.6 mean:0.303, std:0.000\n",
            "0.7000000000000001 mean:0.303, std:0.001\n",
            "0.8 mean:0.303, std:0.001\n",
            "0.9 mean:0.302, std:0.001\n",
            "None mean:0.302, std:0.000\n"
          ],
          "name": "stdout"
        }
      ]
    },
    {
      "cell_type": "code",
      "metadata": {
        "colab": {
          "base_uri": "https://localhost:8080/"
        },
        "id": "INGQHGkvW3tN",
        "outputId": "834e9b83-7c3f-4d05-8b99-cd80ba3338eb"
      },
      "source": [
        "from sklearn.model_selection import train_test_split\n",
        "\n",
        "X_train, X_test, y_train, y_test = train_test_split(X, y,test_size=0.2, stratify=y,random_state= 2056)\n",
        "for i in range(1,len(X.columns)+1):\n",
        "  arr=[]\n",
        "  for j in range(0,5):\n",
        "    model = RandomForestClassifier(max_samples=0.4,max_features=i,n_estimators=50)\n",
        "    model.fit(X_train, y_train)\n",
        "    yhat = model.predict(X_test)\n",
        "    # evaluate predictions\n",
        "    arr.append(f1_score(y_test, yhat,average='micro'))\n",
        "  print(i,\"mean:{0:.3f}, std:{1:.3f}\".format(np.mean(arr), np.std(arr)))"
      ],
      "execution_count": 10,
      "outputs": [
        {
          "output_type": "stream",
          "text": [
            "1 mean:0.298, std:0.000\n",
            "2 mean:0.300, std:0.001\n",
            "3 mean:0.301, std:0.001\n",
            "4 mean:0.303, std:0.001\n",
            "5 mean:0.304, std:0.001\n",
            "6 mean:0.304, std:0.000\n",
            "7 mean:0.304, std:0.001\n",
            "8 mean:0.304, std:0.001\n"
          ],
          "name": "stdout"
        }
      ]
    },
    {
      "cell_type": "code",
      "metadata": {
        "colab": {
          "base_uri": "https://localhost:8080/"
        },
        "id": "JNlZ2FCmbVRn",
        "outputId": "6347236e-348a-4ce2-f3ed-a6841d491ba7"
      },
      "source": [
        "from sklearn.model_selection import train_test_split\n",
        "\n",
        "X_train, X_test, y_train, y_test = train_test_split(X, y,test_size=0.2, stratify=y,random_state= 2056)\n",
        "for i in [50,100]:\n",
        "  model = RandomForestClassifier(max_samples=0.4,n_estimators=i)\n",
        "  model.fit(X_train, y_train)\n",
        "  yhat = model.predict(X_test)\n",
        "  f1=f1_score(y_test, yhat,average='micro')\n",
        "  print(i,\"score:{0:.3f}\".format(f1))"
      ],
      "execution_count": 9,
      "outputs": [
        {
          "output_type": "stream",
          "text": [
            "50 score:0.300\n",
            "100 score:0.302\n"
          ],
          "name": "stdout"
        }
      ]
    }
  ]
}