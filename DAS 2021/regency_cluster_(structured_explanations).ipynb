{
  "nbformat": 4,
  "nbformat_minor": 0,
  "metadata": {
    "colab": {
      "name": "regency_cluster (structured explanations).ipynb",
      "provenance": [],
      "authorship_tag": "ABX9TyMszl19T8OzH8AXcXUEnAel",
      "include_colab_link": true
    },
    "kernelspec": {
      "name": "python3",
      "display_name": "Python 3"
    },
    "language_info": {
      "name": "python"
    }
  },
  "cells": [
    {
      "cell_type": "markdown",
      "metadata": {
        "id": "view-in-github",
        "colab_type": "text"
      },
      "source": [
        "<a href=\"https://colab.research.google.com/github/evanekawijaya/data-project/blob/main/DAS%202021/regency_cluster_(structured_explanations).ipynb\" target=\"_parent\"><img src=\"https://colab.research.google.com/assets/colab-badge.svg\" alt=\"Open In Colab\"/></a>"
      ]
    },
    {
      "cell_type": "code",
      "metadata": {
        "id": "koh_rYQeH4mm",
        "colab": {
          "base_uri": "https://localhost:8080/"
        },
        "outputId": "71ed3cc3-8a7e-4c32-a0b8-48ce321a9da8"
      },
      "source": [
        "#importing the data and initial data pre-processing\n",
        "import pandas as pd\n",
        "from google.colab import drive\n",
        "\n",
        "drive.mount('/content/drive')\n",
        "train=pd.read_csv(\"/content/drive/MyDrive/DAS/Train.csv\").iloc[:,2:]\n",
        "test=pd.read_csv(\"/content/drive/MyDrive/DAS/Test.csv\").iloc[:,3:]\n",
        "\n",
        "train = train.drop(columns=['distance','buying_date','dealing_date','cnt'])\n",
        "train = train.astype('category')"
      ],
      "execution_count": 2,
      "outputs": [
        {
          "output_type": "stream",
          "text": [
            "Drive already mounted at /content/drive; to attempt to forcibly remount, call drive.mount(\"/content/drive\", force_remount=True).\n"
          ],
          "name": "stdout"
        }
      ]
    },
    {
      "cell_type": "code",
      "metadata": {
        "colab": {
          "base_uri": "https://localhost:8080/"
        },
        "id": "UJ8B1bp4-8EW",
        "outputId": "37379be4-944f-4a0d-e3dd-75aefc5bf7d6"
      },
      "source": [
        "#variable selection\n",
        "X = train.drop(columns=['regency_cluster'])\n",
        "y = train['regency_cluster']\n",
        "\n",
        "from sklearn.feature_selection import SelectKBest, chi2\n",
        "X_new = SelectKBest(chi2, k=10).fit_transform(X,y)\n",
        "X_new[0:2]"
      ],
      "execution_count": 3,
      "outputs": [
        {
          "output_type": "execute_result",
          "data": {
            "text/plain": [
              "array([[    2,    66,   348, 48862,    12,     1,  8250,     1,     2,\n",
              "           50],\n",
              "       [    2,    66,   348, 48862,    12,     1,  8250,     1,     2,\n",
              "           50]])"
            ]
          },
          "metadata": {
            "tags": []
          },
          "execution_count": 3
        }
      ]
    },
    {
      "cell_type": "code",
      "metadata": {
        "id": "u9jmC5ch_UpF"
      },
      "source": [
        "#dropping the unselected variables\n",
        "drop=['continent_id','buyer_country','buyer_region','mobile','channel_id','adults','children','room','dealing','regency_continent']\n",
        "train=train.drop(columns=drop)\n",
        "\n",
        "X = train.drop(columns=['regency_cluster'])\n",
        "y = train['regency_cluster']"
      ],
      "execution_count": 4,
      "outputs": []
    },
    {
      "cell_type": "code",
      "metadata": {
        "id": "imMF_vyF5NeV",
        "colab": {
          "base_uri": "https://localhost:8080/"
        },
        "outputId": "c8063f9b-7388-4046-ae36-e2ac0c8b151b"
      },
      "source": [
        "#modelling and validation\n",
        "import numpy as np\n",
        "from sklearn.ensemble import RandomForestClassifier\n",
        "from sklearn.metrics import accuracy_score\n",
        "from sklearn.metrics import f1_score\n",
        "from sklearn.model_selection import cross_val_score\n",
        "from sklearn.model_selection import RepeatedStratifiedKFold\n",
        "\n",
        "model = RandomForestClassifier(max_samples=0.4,max_features=5,n_estimators=50)\n",
        "cv = RepeatedStratifiedKFold(n_splits=10,n_repeats=3, random_state=2056)\n",
        "n_scores = cross_val_score(model, X, y, cv=cv,scoring='f1_micro', error_score='raise')\n",
        "print('f1 score: %.3f (%.3f)' % (np.mean(n_scores), np.std(n_scores)))"
      ],
      "execution_count": 5,
      "outputs": [
        {
          "output_type": "stream",
          "text": [
            "f1 score: 0.312 (0.003)\n"
          ],
          "name": "stdout"
        }
      ]
    },
    {
      "cell_type": "code",
      "metadata": {
        "id": "aOT3wTzA_okl"
      },
      "source": [
        "#data pre-processing for the test dataset\n",
        "drop1=['continent_id','buyer_country','buyer_region','distance','mobile','buying_date','dealing_date','channel_id','adults','children','room','regency_continent']\n",
        "test=test.drop(columns=drop1).astype('category')"
      ],
      "execution_count": 9,
      "outputs": []
    },
    {
      "cell_type": "code",
      "metadata": {
        "id": "ry-QCGAmAGay"
      },
      "source": [
        "#model fitting and predicting the test dataset\n",
        "model.fit(X,y)\n",
        "pred = model.predict(test)\n",
        "answer = test\n",
        "answer['regency_cluster'] = pred"
      ],
      "execution_count": 10,
      "outputs": []
    },
    {
      "cell_type": "code",
      "metadata": {
        "colab": {
          "base_uri": "https://localhost:8080/",
          "height": 17
        },
        "id": "DSQlvH-FP97l",
        "outputId": "6a9edea1-a168-4444-8a6f-5798e4c73907"
      },
      "source": [
        "from google.colab import files\n",
        "answer.to_csv('ID-21-0250_Siev_Universitas Indonesia.csv',index=False)\n",
        "files.download('ID-21-0250_Siev_Universitas Indonesia.csv')"
      ],
      "execution_count": 17,
      "outputs": [
        {
          "output_type": "display_data",
          "data": {
            "application/javascript": [
              "\n",
              "    async function download(id, filename, size) {\n",
              "      if (!google.colab.kernel.accessAllowed) {\n",
              "        return;\n",
              "      }\n",
              "      const div = document.createElement('div');\n",
              "      const label = document.createElement('label');\n",
              "      label.textContent = `Downloading \"${filename}\": `;\n",
              "      div.appendChild(label);\n",
              "      const progress = document.createElement('progress');\n",
              "      progress.max = size;\n",
              "      div.appendChild(progress);\n",
              "      document.body.appendChild(div);\n",
              "\n",
              "      const buffers = [];\n",
              "      let downloaded = 0;\n",
              "\n",
              "      const channel = await google.colab.kernel.comms.open(id);\n",
              "      // Send a message to notify the kernel that we're ready.\n",
              "      channel.send({})\n",
              "\n",
              "      for await (const message of channel.messages) {\n",
              "        // Send a message to notify the kernel that we're ready.\n",
              "        channel.send({})\n",
              "        if (message.buffers) {\n",
              "          for (const buffer of message.buffers) {\n",
              "            buffers.push(buffer);\n",
              "            downloaded += buffer.byteLength;\n",
              "            progress.value = downloaded;\n",
              "          }\n",
              "        }\n",
              "      }\n",
              "      const blob = new Blob(buffers, {type: 'application/binary'});\n",
              "      const a = document.createElement('a');\n",
              "      a.href = window.URL.createObjectURL(blob);\n",
              "      a.download = filename;\n",
              "      div.appendChild(a);\n",
              "      a.click();\n",
              "      div.remove();\n",
              "    }\n",
              "  "
            ],
            "text/plain": [
              "<IPython.core.display.Javascript object>"
            ]
          },
          "metadata": {
            "tags": []
          }
        },
        {
          "output_type": "display_data",
          "data": {
            "application/javascript": [
              "download(\"download_8c5e3273-590f-43da-ad0c-c466b5e9388e\", \"ID-21-0250_Siev_Universitas Indonesia.csv\", 690196)"
            ],
            "text/plain": [
              "<IPython.core.display.Javascript object>"
            ]
          },
          "metadata": {
            "tags": []
          }
        }
      ]
    },
    {
      "cell_type": "code",
      "metadata": {
        "colab": {
          "base_uri": "https://localhost:8080/",
          "height": 235
        },
        "id": "2-c9TP4uKkAa",
        "outputId": "bd75cdb7-7c1d-42f3-a034-5c587b86b5c1"
      },
      "source": [
        "#finding the best number of samples\n",
        "from sklearn.model_selection import train_test_split\n",
        "\n",
        "X_train, X_test, y_train, y_test = train_test_split(X, y,test_size=0.2, stratify=y,random_state= 2056)\n",
        "for i in np.arange(0.1,1.1,0.1):\n",
        "  arr=[]\n",
        "  if i==1.0:\n",
        "    i=None\n",
        "  for j in range(0,5):\n",
        "    model = RandomForestClassifier(max_samples=i)\n",
        "    model.fit(X_train, y_train)\n",
        "    yhat = model.predict(X_test)\n",
        "    # evaluate predictions\n",
        "    arr.append(f1_score(y_test, yhat,average='micro'))\n",
        "  print(i,\"mean:{0:.3f}, std:{1:.3f}\".format(np.mean(arr), np.std(arr)))"
      ],
      "execution_count": 6,
      "outputs": [
        {
          "output_type": "error",
          "ename": "NameError",
          "evalue": "ignored",
          "traceback": [
            "\u001b[0;31m---------------------------------------------------------------------------\u001b[0m",
            "\u001b[0;31mNameError\u001b[0m                                 Traceback (most recent call last)",
            "\u001b[0;32m<ipython-input-6-6941f966ebe7>\u001b[0m in \u001b[0;36m<module>\u001b[0;34m()\u001b[0m\n\u001b[1;32m      1\u001b[0m \u001b[0;31m#from sklearn.model_selection import train_test_split\u001b[0m\u001b[0;34m\u001b[0m\u001b[0;34m\u001b[0m\u001b[0;34m\u001b[0m\u001b[0m\n\u001b[1;32m      2\u001b[0m \u001b[0;34m\u001b[0m\u001b[0m\n\u001b[0;32m----> 3\u001b[0;31m \u001b[0mX_train\u001b[0m\u001b[0;34m,\u001b[0m \u001b[0mX_test\u001b[0m\u001b[0;34m,\u001b[0m \u001b[0my_train\u001b[0m\u001b[0;34m,\u001b[0m \u001b[0my_test\u001b[0m \u001b[0;34m=\u001b[0m \u001b[0mtrain_test_split\u001b[0m\u001b[0;34m(\u001b[0m\u001b[0mX\u001b[0m\u001b[0;34m,\u001b[0m \u001b[0my\u001b[0m\u001b[0;34m,\u001b[0m\u001b[0mtest_size\u001b[0m\u001b[0;34m=\u001b[0m\u001b[0;36m0.2\u001b[0m\u001b[0;34m,\u001b[0m \u001b[0mstratify\u001b[0m\u001b[0;34m=\u001b[0m\u001b[0my\u001b[0m\u001b[0;34m,\u001b[0m\u001b[0mrandom_state\u001b[0m\u001b[0;34m=\u001b[0m \u001b[0;36m2056\u001b[0m\u001b[0;34m)\u001b[0m\u001b[0;34m\u001b[0m\u001b[0;34m\u001b[0m\u001b[0m\n\u001b[0m\u001b[1;32m      4\u001b[0m \u001b[0;32mfor\u001b[0m \u001b[0mi\u001b[0m \u001b[0;32min\u001b[0m \u001b[0mnp\u001b[0m\u001b[0;34m.\u001b[0m\u001b[0marange\u001b[0m\u001b[0;34m(\u001b[0m\u001b[0;36m0.1\u001b[0m\u001b[0;34m,\u001b[0m\u001b[0;36m1.1\u001b[0m\u001b[0;34m,\u001b[0m\u001b[0;36m0.1\u001b[0m\u001b[0;34m)\u001b[0m\u001b[0;34m:\u001b[0m\u001b[0;34m\u001b[0m\u001b[0;34m\u001b[0m\u001b[0m\n\u001b[1;32m      5\u001b[0m   \u001b[0marr\u001b[0m\u001b[0;34m=\u001b[0m\u001b[0;34m[\u001b[0m\u001b[0;34m]\u001b[0m\u001b[0;34m\u001b[0m\u001b[0;34m\u001b[0m\u001b[0m\n",
            "\u001b[0;31mNameError\u001b[0m: name 'train_test_split' is not defined"
          ]
        }
      ]
    },
    {
      "cell_type": "code",
      "metadata": {
        "id": "PTveDapeK3ZI"
      },
      "source": [
        "#finding the best number of trees\n",
        "from sklearn.model_selection import train_test_split\n",
        "\n",
        "X_train, X_test, y_train, y_test = train_test_split(X, y,test_size=0.2, stratify=y,random_state= 2056)\n",
        "for i in [50,100]:\n",
        "  model = RandomForestClassifier(max_samples=0.4,n_estimators=i)\n",
        "  model.fit(X_train, y_train)\n",
        "  yhat = model.predict(X_test)\n",
        "  f1=f1_score(y_test, yhat,average='micro')\n",
        "  print(i,\"score:{0:.3f}\".format(f1))"
      ],
      "execution_count": null,
      "outputs": []
    },
    {
      "cell_type": "code",
      "metadata": {
        "id": "1Xg46YdLKlIu"
      },
      "source": [
        "#finding the best number of features\n",
        "from sklearn.model_selection import train_test_split\n",
        "\n",
        "X_train, X_test, y_train, y_test = train_test_split(X, y,test_size=0.2, stratify=y,random_state= 2056)\n",
        "for i in range(1,len(X.columns)+1):\n",
        "  arr=[]\n",
        "  for j in range(0,5):\n",
        "    model = RandomForestClassifier(max_samples=0.4,max_features=i,n_estimators=50)\n",
        "    model.fit(X_train, y_train)\n",
        "    yhat = model.predict(X_test)\n",
        "    # evaluate predictions\n",
        "    arr.append(f1_score(y_test, yhat,average='micro'))\n",
        "  print(i,\"mean:{0:.3f}, std:{1:.3f}\".format(np.mean(arr), np.std(arr)))"
      ],
      "execution_count": null,
      "outputs": []
    }
  ]
}